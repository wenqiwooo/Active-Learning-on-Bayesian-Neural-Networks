{
 "cells": [
  {
   "cell_type": "code",
   "execution_count": 1,
   "metadata": {
    "collapsed": true
   },
   "outputs": [],
   "source": [
    "# CPU/GPU Toggle\n",
    "\n",
    "import os\n",
    "os.environ[\"THEANO_FLAGS\"] = \"mode=FAST_RUN,device=gpu,floatX=float32\""
   ]
  },
  {
   "cell_type": "code",
   "execution_count": 2,
   "metadata": {},
   "outputs": [
    {
     "name": "stderr",
     "output_type": "stream",
     "text": [
      "Using TensorFlow backend.\n"
     ]
    }
   ],
   "source": [
    "# If using tensorflow, set image dimensions order\n",
    "from keras import backend as K\n",
    "if K.backend()=='tensorflow':\n",
    "    K.set_image_dim_ordering(\"th\")"
   ]
  },
  {
   "cell_type": "code",
   "execution_count": 3,
   "metadata": {
    "collapsed": true
   },
   "outputs": [],
   "source": [
    "# Import Keras \n",
    "\n",
    "import time\n",
    "import matplotlib.pyplot as plt\n",
    "import numpy as np\n",
    "% matplotlib inline\n",
    "np.random.seed(2017) \n",
    "from keras.models import Sequential\n",
    "from keras.layers.convolutional import Conv2D, MaxPooling2D\n",
    "from keras.optimizers import SGD\n",
    "from keras.layers import Activation, Flatten, Dense, Dropout\n",
    "from keras.layers.normalization import BatchNormalization\n",
    "from keras.utils import np_utils"
   ]
  },
  {
   "cell_type": "code",
   "execution_count": 4,
   "metadata": {},
   "outputs": [
    {
     "name": "stdout",
     "output_type": "stream",
     "text": [
      "Downloading data from http://www.cs.toronto.edu/~kriz/cifar-10-python.tar.gz\n",
      "170426368/170498071 [============================>.] - ETA: 0s"
     ]
    }
   ],
   "source": [
    "# Load CIFAR-10 Dataset\n",
    "\n",
    "from keras.datasets import cifar10\n",
    "(train_features, train_labels), (test_features, test_labels) = cifar10.load_data()\n",
    "num_train, img_channels, img_rows, img_cols =  train_features.shape\n",
    "num_test, _, _, _ =  train_features.shape\n",
    "num_classes = len(np.unique(train_labels))"
   ]
  },
  {
   "cell_type": "code",
   "execution_count": 5,
   "metadata": {
    "collapsed": true
   },
   "outputs": [],
   "source": [
    "# Test Data Toggle\n",
    "\n",
    "view_data = False"
   ]
  },
  {
   "cell_type": "code",
   "execution_count": 6,
   "metadata": {
    "collapsed": true
   },
   "outputs": [],
   "source": [
    "# Test Data Import\n",
    "\n",
    "if view_data:\n",
    "    class_names = ['airplane','automobile','bird','cat','deer',\n",
    "                   'dog','frog','horse','ship','truck']\n",
    "    fig = plt.figure(figsize=(8,3))\n",
    "    for i in range(num_classes):\n",
    "        ax = fig.add_subplot(2, 5, 1 + i, xticks=[], yticks=[])\n",
    "        idx = np.where(train_labels[:]==i)[0]\n",
    "        features_idx = train_features[idx,::]\n",
    "        img_num = np.random.randint(features_idx.shape[0])\n",
    "        im = np.transpose(features_idx[img_num,::], (1, 2, 0))\n",
    "        ax.set_title(class_names[i])\n",
    "        plt.imshow(im)\n",
    "    plt.show()"
   ]
  },
  {
   "cell_type": "code",
   "execution_count": 7,
   "metadata": {
    "collapsed": true
   },
   "outputs": [],
   "source": [
    "# Performance Logging\n",
    "\n",
    "def plot_model_history(model_history):\n",
    "    fig, axs = plt.subplots(1,2,figsize=(15,5))\n",
    "    # summarize history for accuracy\n",
    "    axs[0].plot(range(1,len(model_history.history['acc'])+1),model_history.history['acc'])\n",
    "    axs[0].plot(range(1,len(model_history.history['val_acc'])+1),model_history.history['val_acc'])\n",
    "    axs[0].set_title('Model Accuracy')\n",
    "    axs[0].set_ylabel('Accuracy')\n",
    "    axs[0].set_xlabel('Epoch')\n",
    "    axs[0].set_xticks(np.arange(1,len(model_history.history['acc'])+1),len(model_history.history['acc'])/10)\n",
    "    axs[0].legend(['train', 'val'], loc='best')\n",
    "    # summarize history for loss\n",
    "    axs[1].plot(range(1,len(model_history.history['loss'])+1),model_history.history['loss'])\n",
    "    axs[1].plot(range(1,len(model_history.history['val_loss'])+1),model_history.history['val_loss'])\n",
    "    axs[1].set_title('Model Loss')\n",
    "    axs[1].set_ylabel('Loss')\n",
    "    axs[1].set_xlabel('Epoch')\n",
    "    axs[1].set_xticks(np.arange(1,len(model_history.history['loss'])+1),len(model_history.history['loss'])/10)\n",
    "    axs[1].legend(['train', 'val'], loc='best')\n",
    "    plt.show()\n",
    "    \n",
    "def accuracy(test_x, test_y, model):\n",
    "    result = model.predict(test_x)\n",
    "    predicted_class = np.argmax(result, axis=1)\n",
    "    true_class = np.argmax(test_y, axis=1)\n",
    "    num_correct = np.sum(predicted_class == true_class) \n",
    "    accuracy = float(num_correct)/result.shape[0]\n",
    "    return (accuracy * 100)"
   ]
  },
  {
   "cell_type": "code",
   "execution_count": 8,
   "metadata": {
    "collapsed": true
   },
   "outputs": [],
   "source": [
    "# Data Pre-Processing\n",
    "\n",
    "train_features = train_features.astype('float32')/255.0\n",
    "test_features = test_features.astype('float32')/255.0\n",
    "\n",
    "# convert class labels to binary class labels\n",
    "train_labels = np_utils.to_categorical(train_labels, num_classes)\n",
    "test_labels = np_utils.to_categorical(test_labels, num_classes)"
   ]
  },
  {
   "cell_type": "code",
   "execution_count": 9,
   "metadata": {
    "collapsed": true
   },
   "outputs": [],
   "source": [
    "# Model Parameters\n",
    "input_shape = (img_channels, img_rows, img_cols)\n",
    "kernel_size = 3\n",
    "pool_size = 2\n",
    "strides = 3\n",
    "conv_depth_1 = 64\n",
    "conv_depth_2 = 128\n",
    "lr = 0.01\n",
    "loss = 'categorical_crossentropy'\n",
    "optimizer = SGD(lr=lr)\n",
    "metrics = ['accuracy']\n",
    "batch_size = 128\n",
    "epochs = 50\n",
    "verbose = 2 # 0 - no logging, 1 - progress bar, 2 - line per epoch"
   ]
  },
  {
   "cell_type": "code",
   "execution_count": 10,
   "metadata": {},
   "outputs": [
    {
     "name": "stdout",
     "output_type": "stream",
     "text": [
      "(3, 32, 32)\n"
     ]
    }
   ],
   "source": [
    "print(input_shape)"
   ]
  },
  {
   "cell_type": "code",
   "execution_count": 11,
   "metadata": {
    "scrolled": false
   },
   "outputs": [
    {
     "name": "stdout",
     "output_type": "stream",
     "text": [
      "_________________________________________________________________\n",
      "Layer (type)                 Output Shape              Param #   \n",
      "=================================================================\n",
      "conv2d_1 (Conv2D)            (None, 64, 32, 32)        1792      \n",
      "_________________________________________________________________\n",
      "activation_1 (Activation)    (None, 64, 32, 32)        0         \n",
      "_________________________________________________________________\n",
      "max_pooling2d_1 (MaxPooling2 (None, 64, 16, 16)        0         \n",
      "_________________________________________________________________\n",
      "conv2d_2 (Conv2D)            (None, 128, 16, 16)       73856     \n",
      "_________________________________________________________________\n",
      "activation_2 (Activation)    (None, 128, 16, 16)       0         \n",
      "_________________________________________________________________\n",
      "max_pooling2d_2 (MaxPooling2 (None, 128, 8, 8)         0         \n",
      "_________________________________________________________________\n",
      "flatten_1 (Flatten)          (None, 8192)              0         \n",
      "_________________________________________________________________\n",
      "dense_1 (Dense)              (None, 10)                81930     \n",
      "=================================================================\n",
      "Total params: 157,578\n",
      "Trainable params: 157,578\n",
      "Non-trainable params: 0\n",
      "_________________________________________________________________\n",
      "None\n",
      "Train on 50000 samples, validate on 10000 samples\n",
      "Epoch 1/50\n",
      "45s - loss: 2.1703 - acc: 0.2237 - val_loss: 2.0194 - val_acc: 0.2660\n",
      "Epoch 2/50\n",
      "31s - loss: 1.9325 - acc: 0.3236 - val_loss: 1.8738 - val_acc: 0.3315\n",
      "Epoch 3/50\n",
      "31s - loss: 1.8173 - acc: 0.3661 - val_loss: 1.7549 - val_acc: 0.3819\n",
      "Epoch 4/50\n",
      "31s - loss: 1.7094 - acc: 0.4059 - val_loss: 1.6633 - val_acc: 0.4220\n",
      "Epoch 5/50\n",
      "31s - loss: 1.6136 - acc: 0.4349 - val_loss: 1.5520 - val_acc: 0.4560\n",
      "Epoch 6/50\n",
      "32s - loss: 1.5380 - acc: 0.4599 - val_loss: 1.5016 - val_acc: 0.4757\n",
      "Epoch 7/50\n",
      "32s - loss: 1.4757 - acc: 0.4787 - val_loss: 1.4460 - val_acc: 0.4865\n",
      "Epoch 8/50\n",
      "32s - loss: 1.4295 - acc: 0.4961 - val_loss: 1.4263 - val_acc: 0.4936\n",
      "Epoch 9/50\n",
      "32s - loss: 1.3902 - acc: 0.5122 - val_loss: 1.3787 - val_acc: 0.5103\n",
      "Epoch 10/50\n",
      "31s - loss: 1.3540 - acc: 0.5266 - val_loss: 1.3895 - val_acc: 0.5209\n",
      "Epoch 11/50\n",
      "32s - loss: 1.3269 - acc: 0.5357 - val_loss: 1.3315 - val_acc: 0.5286\n",
      "Epoch 12/50\n",
      "31s - loss: 1.2982 - acc: 0.5472 - val_loss: 1.3101 - val_acc: 0.5329\n",
      "Epoch 13/50\n",
      "31s - loss: 1.2730 - acc: 0.5555 - val_loss: 1.2617 - val_acc: 0.5564\n",
      "Epoch 14/50\n",
      "31s - loss: 1.2517 - acc: 0.5623 - val_loss: 1.3083 - val_acc: 0.5412\n",
      "Epoch 15/50\n",
      "31s - loss: 1.2288 - acc: 0.5733 - val_loss: 1.2307 - val_acc: 0.5667\n",
      "Epoch 16/50\n",
      "31s - loss: 1.2043 - acc: 0.5819 - val_loss: 1.2518 - val_acc: 0.5529\n",
      "Epoch 17/50\n",
      "32s - loss: 1.1882 - acc: 0.5884 - val_loss: 1.2335 - val_acc: 0.5606\n",
      "Epoch 18/50\n",
      "32s - loss: 1.1682 - acc: 0.5943 - val_loss: 1.2070 - val_acc: 0.5713\n",
      "Epoch 19/50\n",
      "32s - loss: 1.1491 - acc: 0.6014 - val_loss: 1.1833 - val_acc: 0.5873\n",
      "Epoch 20/50\n",
      "31s - loss: 1.1337 - acc: 0.6099 - val_loss: 1.1648 - val_acc: 0.5976\n",
      "Epoch 21/50\n",
      "31s - loss: 1.1153 - acc: 0.6152 - val_loss: 1.1311 - val_acc: 0.6072\n",
      "Epoch 22/50\n",
      "31s - loss: 1.0991 - acc: 0.6198 - val_loss: 1.1522 - val_acc: 0.6009\n",
      "Epoch 23/50\n",
      "32s - loss: 1.0854 - acc: 0.6274 - val_loss: 1.0936 - val_acc: 0.6243\n",
      "Epoch 24/50\n",
      "32s - loss: 1.0706 - acc: 0.6329 - val_loss: 1.1193 - val_acc: 0.6078\n",
      "Epoch 25/50\n",
      "32s - loss: 1.0544 - acc: 0.6370 - val_loss: 1.0777 - val_acc: 0.6293\n",
      "Epoch 26/50\n",
      "32s - loss: 1.0418 - acc: 0.6433 - val_loss: 1.1011 - val_acc: 0.6174\n",
      "Epoch 27/50\n",
      "32s - loss: 1.0304 - acc: 0.6458 - val_loss: 1.0900 - val_acc: 0.6138\n",
      "Epoch 28/50\n",
      "32s - loss: 1.0171 - acc: 0.6516 - val_loss: 1.0780 - val_acc: 0.6187\n",
      "Epoch 29/50\n",
      "32s - loss: 1.0071 - acc: 0.6536 - val_loss: 1.0742 - val_acc: 0.6248\n",
      "Epoch 30/50\n",
      "31s - loss: 0.9914 - acc: 0.6617 - val_loss: 1.0874 - val_acc: 0.6198\n",
      "Epoch 31/50\n",
      "32s - loss: 0.9830 - acc: 0.6635 - val_loss: 1.0488 - val_acc: 0.6330\n",
      "Epoch 32/50\n",
      "32s - loss: 0.9711 - acc: 0.6684 - val_loss: 1.0698 - val_acc: 0.6199\n",
      "Epoch 33/50\n",
      "32s - loss: 0.9647 - acc: 0.6693 - val_loss: 1.0215 - val_acc: 0.6442\n",
      "Epoch 34/50\n",
      "32s - loss: 0.9521 - acc: 0.6750 - val_loss: 1.0513 - val_acc: 0.6274\n",
      "Epoch 35/50\n",
      "31s - loss: 0.9434 - acc: 0.6782 - val_loss: 0.9884 - val_acc: 0.6590\n",
      "Epoch 36/50\n",
      "32s - loss: 0.9323 - acc: 0.6818 - val_loss: 1.1028 - val_acc: 0.6087\n",
      "Epoch 37/50\n",
      "32s - loss: 0.9241 - acc: 0.6831 - val_loss: 1.0818 - val_acc: 0.6169\n",
      "Epoch 38/50\n",
      "32s - loss: 0.9127 - acc: 0.6895 - val_loss: 0.9797 - val_acc: 0.6681\n",
      "Epoch 39/50\n",
      "32s - loss: 0.9029 - acc: 0.6914 - val_loss: 1.0480 - val_acc: 0.6330\n",
      "Epoch 40/50\n",
      "31s - loss: 0.8954 - acc: 0.6965 - val_loss: 0.9671 - val_acc: 0.6698\n",
      "Epoch 41/50\n",
      "31s - loss: 0.8882 - acc: 0.6983 - val_loss: 1.0294 - val_acc: 0.6470\n",
      "Epoch 42/50\n",
      "32s - loss: 0.8797 - acc: 0.7006 - val_loss: 0.9775 - val_acc: 0.6619\n",
      "Epoch 43/50\n",
      "31s - loss: 0.8720 - acc: 0.7029 - val_loss: 0.9566 - val_acc: 0.6720\n",
      "Epoch 44/50\n",
      "32s - loss: 0.8621 - acc: 0.7049 - val_loss: 0.9908 - val_acc: 0.6559\n",
      "Epoch 45/50\n",
      "32s - loss: 0.8551 - acc: 0.7078 - val_loss: 0.9764 - val_acc: 0.6592\n",
      "Epoch 46/50\n",
      "32s - loss: 0.8474 - acc: 0.7110 - val_loss: 0.9528 - val_acc: 0.6695\n",
      "Epoch 47/50\n",
      "32s - loss: 0.8410 - acc: 0.7143 - val_loss: 0.9703 - val_acc: 0.6655\n",
      "Epoch 48/50\n",
      "31s - loss: 0.8316 - acc: 0.7187 - val_loss: 0.9399 - val_acc: 0.6800\n",
      "Epoch 49/50\n",
      "32s - loss: 0.8210 - acc: 0.7203 - val_loss: 0.9622 - val_acc: 0.6649\n",
      "Epoch 50/50\n",
      "31s - loss: 0.8188 - acc: 0.7219 - val_loss: 1.0057 - val_acc: 0.6549\n"
     ]
    },
    {
     "data": {
      "image/png": "[encoded data removed]",
      "text/plain": [
       "<matplotlib.figure.Figure at 0x7f630c6b6b70>"
      ]
     },
     "metadata": {},
     "output_type": "display_data"
    },
    {
     "name": "stdout",
     "output_type": "stream",
     "text": [
      "Model took 1614.13 seconds to train\n",
      "Accuracy on test data is: 65.49\n"
     ]
    }
   ],
   "source": [
    "# Define the model\n",
    "\n",
    "model = Sequential()\n",
    "\n",
    "model.add(Conv2D(conv_depth_1, (kernel_size, strides), padding='same', input_shape=input_shape))\n",
    "model.add(Activation('relu'))\n",
    "\n",
    "model.add(MaxPooling2D(pool_size=(pool_size, pool_size)))\n",
    "\n",
    "model.add(Conv2D(conv_depth_2, (kernel_size, strides), padding='same'))\n",
    "model.add(Activation('relu'))\n",
    "\n",
    "model.add(MaxPooling2D(pool_size=(pool_size, pool_size)))\n",
    "\n",
    "model.add(Flatten())\n",
    "model.add(Dense(num_classes, activation='softmax'))\n",
    "\n",
    "model.compile(loss=loss, optimizer=optimizer, metrics=metrics)\n",
    "print(model.summary())\n",
    "\n",
    "# Train the model\n",
    "start = time.time()\n",
    "\n",
    "model_info = model.fit(train_features, train_labels, \n",
    "                       batch_size=batch_size, epochs=epochs, \n",
    "                       validation_data = (test_features, test_labels), \n",
    "                       verbose=verbose)\n",
    "end = time.time()\n",
    "\n",
    "# plot model history\n",
    "plot_model_history(model_info)\n",
    "print(\"Model took %0.2f seconds to train\" % (end - start))\n",
    "# compute test accuracy\n",
    "print(\"Accuracy on test data is: %0.2f\" % accuracy(test_features, test_labels, model))"
   ]
  },
  {
   "cell_type": "code",
   "execution_count": null,
   "metadata": {
    "collapsed": true
   },
   "outputs": [],
   "source": []
  }
 ],
 "metadata": {
  "kernelspec": {
   "display_name": "Python 3",
   "language": "python",
   "name": "python3"
  },
  "language_info": {
   "codemirror_mode": {
    "name": "ipython",
    "version": 3
   },
   "file_extension": ".py",
   "mimetype": "text/x-python",
   "name": "python",
   "nbconvert_exporter": "python",
   "pygments_lexer": "ipython3",
   "version": "3.6.1"
  }
 },
 "nbformat": 4,
 "nbformat_minor": 2
}
